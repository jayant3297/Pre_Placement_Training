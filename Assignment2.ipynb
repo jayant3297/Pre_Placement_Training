{
  "nbformat": 4,
  "nbformat_minor": 0,
  "metadata": {
    "colab": {
      "provenance": [],
      "authorship_tag": "ABX9TyOPxzDaGX51mwnv1nfVuVfW",
      "include_colab_link": true
    },
    "kernelspec": {
      "name": "python3",
      "display_name": "Python 3"
    },
    "language_info": {
      "name": "python"
    }
  },
  "cells": [
    {
      "cell_type": "markdown",
      "metadata": {
        "id": "view-in-github",
        "colab_type": "text"
      },
      "source": [
        "<a href=\"https://colab.research.google.com/github/jayant3297/Pre_Placement_Training/blob/main/Assignment2.ipynb\" target=\"_parent\"><img src=\"https://colab.research.google.com/assets/colab-badge.svg\" alt=\"Open In Colab\"/></a>"
      ]
    },
    {
      "cell_type": "markdown",
      "source": [
        "<aside>\n",
        "💡 **Question 1**\n",
        "Given an integer array nums of 2n integers, group these integers into n pairs (a1, b1), (a2, b2),..., (an, bn) such that the sum of min(ai, bi) for all i is maximized. Return the maximized sum.\n",
        "\n",
        "**Example 1:**\n",
        "Input: nums = [1,4,3,2]\n",
        "Output: 4\n",
        "\n",
        "**Explanation:** All possible pairings (ignoring the ordering of elements) are:\n",
        "\n",
        "1. (1, 4), (2, 3) -> min(1, 4) + min(2, 3) = 1 + 2 = 3\n",
        "2. (1, 3), (2, 4) -> min(1, 3) + min(2, 4) = 1 + 2 = 3\n",
        "3. (1, 2), (3, 4) -> min(1, 2) + min(3, 4) = 1 + 3 = 4\n",
        "So the maximum possible sum is 4\n",
        "</aside>"
      ],
      "metadata": {
        "id": "8YiERxheXG87"
      }
    },
    {
      "cell_type": "code",
      "execution_count": 1,
      "metadata": {
        "id": "pZLtsJp0VK1r"
      },
      "outputs": [],
      "source": [
        "def arrayPairSum(nums):\n",
        "    nums.sort()  # Sort the array\n",
        "    max_sum = 0\n",
        "\n",
        "    for i in range(0, len(nums), 2):\n",
        "        max_sum += nums[i]\n",
        "\n",
        "    return max_sum"
      ]
    },
    {
      "cell_type": "code",
      "source": [
        "nums = [1, 4, 3, 2]\n",
        "result = arrayPairSum(nums)\n",
        "print(result)"
      ],
      "metadata": {
        "colab": {
          "base_uri": "https://localhost:8080/"
        },
        "id": "mdJCpidDXV3I",
        "outputId": "9b0c0351-1906-45be-d6b8-be959eeda354"
      },
      "execution_count": 2,
      "outputs": [
        {
          "output_type": "stream",
          "name": "stdout",
          "text": [
            "4\n"
          ]
        }
      ]
    },
    {
      "cell_type": "markdown",
      "source": [
        "Alice has n candies, where the ith candy is of type candyType[i]. Alice noticed that she started to gain weight, so she visited a doctor. \n",
        "\n",
        "The doctor advised Alice to only eat n / 2 of the candies she has (n is always even). Alice likes her candies very much, and she wants to eat the maximum number of different types of candies while still following the doctor's advice. \n",
        "\n",
        "Given the integer array candyType of length n, return the maximum number of different types of candies she can eat if she only eats n / 2 of them.\n",
        "\n",
        "Example 1:\n",
        "Input: candyType = [1,1,2,2,3,3]\n",
        "Output: 3\n",
        "\n",
        "Explanation: Alice can only eat 6 / 2 = 3 candies. Since there are only 3 types, she can eat one of each type."
      ],
      "metadata": {
        "id": "W_JN0FZ_Xnnk"
      }
    },
    {
      "cell_type": "code",
      "source": [
        "def distributeCandies(candyType):\n",
        "    max_types = len(set(candyType))  # Count the number of unique candy types\n",
        "    max_eat = len(candyType) // 2  # Calculate the maximum number of candies Alice can eat\n",
        "\n",
        "    return min(max_types, max_eat)"
      ],
      "metadata": {
        "id": "j_O6HzlTXXxp"
      },
      "execution_count": 3,
      "outputs": []
    },
    {
      "cell_type": "code",
      "source": [
        "candyType = [1, 1, 2, 2, 3, 3]\n",
        "result = distributeCandies(candyType)\n",
        "print(result)"
      ],
      "metadata": {
        "colab": {
          "base_uri": "https://localhost:8080/"
        },
        "id": "PeSKGN3wYdg3",
        "outputId": "06743f81-38aa-4028-cdc2-c9e4e8580df0"
      },
      "execution_count": 4,
      "outputs": [
        {
          "output_type": "stream",
          "name": "stdout",
          "text": [
            "3\n"
          ]
        }
      ]
    },
    {
      "cell_type": "markdown",
      "source": [
        "Question 3\n",
        "We define a harmonious array as an array where the difference between its maximum value\n",
        "and its minimum value is exactly 1.\n",
        "\n",
        "Given an integer array nums, return the length of its longest harmonious subsequence\n",
        "among all its possible subsequences.\n",
        "\n",
        "A subsequence of an array is a sequence that can be derived from the array by deleting some or no elements without changing the order of the remaining elements.\n",
        "\n",
        "Example 1:\n",
        "Input: nums = [1,3,2,2,5,2,3,7]\n",
        "Output: 5\n",
        "\n",
        "Explanation: The longest harmonious subsequence is [3,2,2,2,3]."
      ],
      "metadata": {
        "id": "0ib1bdG8Ykhx"
      }
    },
    {
      "cell_type": "code",
      "source": [
        "def findLHS(nums):\n",
        "    freq = {}\n",
        "    max_length = 0\n",
        "\n",
        "    for num in nums:\n",
        "        freq[num] = freq.get(num, 0) + 1\n",
        "\n",
        "    for key in freq:\n",
        "        if key + 1 in freq:\n",
        "            length = freq[key] + freq[key + 1]\n",
        "            max_length = max(max_length, length)\n",
        "\n",
        "    return max_length"
      ],
      "metadata": {
        "id": "dzUN2baWYf08"
      },
      "execution_count": 5,
      "outputs": []
    },
    {
      "cell_type": "code",
      "source": [
        "nums = [1, 3, 2, 2, 5, 2, 3, 7]\n",
        "result = findLHS(nums)\n",
        "print(result)"
      ],
      "metadata": {
        "colab": {
          "base_uri": "https://localhost:8080/"
        },
        "id": "t6XbM1LNY5UM",
        "outputId": "6db72700-2cca-402f-cc62-90bc1c7202d0"
      },
      "execution_count": 6,
      "outputs": [
        {
          "output_type": "stream",
          "name": "stdout",
          "text": [
            "5\n"
          ]
        }
      ]
    },
    {
      "cell_type": "markdown",
      "source": [
        "Question 4\n",
        "You have a long flowerbed in which some of the plots are planted, and some are not.\n",
        "However, flowers cannot be planted in adjacent plots.\n",
        "Given an integer array flowerbed containing 0's and 1's, where 0 means empty and 1 means not empty, and an integer n, return true if n new flowers can be planted in the flowerbed without violating the no-adjacent-flowers rule and false otherwise.\n",
        "\n",
        "Example 1:\n",
        "Input: flowerbed = [1,0,0,0,1], n = 1\n",
        "Output: true"
      ],
      "metadata": {
        "id": "G_RHnkihZdM3"
      }
    },
    {
      "cell_type": "code",
      "source": [
        "def canPlaceFlowers(flowerbed, n):\n",
        "    length = len(flowerbed)\n",
        "    count = 0\n",
        "    i = 0\n",
        "\n",
        "    while i < length:\n",
        "        if flowerbed[i] == 0 and (i == 0 or flowerbed[i - 1] == 0) and (i == length - 1 or flowerbed[i + 1] == 0):\n",
        "            flowerbed[i] = 1\n",
        "            count += 1\n",
        "        i += 1\n",
        "\n",
        "    return count >= n"
      ],
      "metadata": {
        "id": "CprnNUkZY7N-"
      },
      "execution_count": 7,
      "outputs": []
    },
    {
      "cell_type": "code",
      "source": [
        "flowerbed = [1, 0, 0, 0, 1]\n",
        "n = 1\n",
        "result = canPlaceFlowers(flowerbed, n)\n",
        "print(result)"
      ],
      "metadata": {
        "colab": {
          "base_uri": "https://localhost:8080/"
        },
        "id": "_Kssdf9Aa-zL",
        "outputId": "14319829-7f27-4adf-8416-414852164517"
      },
      "execution_count": 8,
      "outputs": [
        {
          "output_type": "stream",
          "name": "stdout",
          "text": [
            "True\n"
          ]
        }
      ]
    },
    {
      "cell_type": "markdown",
      "source": [
        "Question 5\n",
        "Given an integer array nums, find three numbers whose product is maximum and return the maximum product.\n",
        "\n",
        "Example 1:\n",
        "Input: nums = [1,2,3]\n",
        "Output: 6"
      ],
      "metadata": {
        "id": "uv60m1PEbHS0"
      }
    },
    {
      "cell_type": "code",
      "source": [
        "def maximumProduct(nums):\n",
        "    nums.sort() \n",
        "\n",
        "    n = len(nums)\n",
        "    max_product = float('-inf')\n",
        "\n",
        "    #Multiply the three largest numbers\n",
        "    max_product = max(max_product, nums[n - 1] * nums[n - 2] * nums[n - 3])\n",
        "\n",
        "    #Multiply the two smallest negative numbers and the largest positive number\n",
        "    max_product = max(max_product, nums[0] * nums[1] * nums[n - 1])\n",
        "\n",
        "    return max_product"
      ],
      "metadata": {
        "id": "UKmKkxAWbBU5"
      },
      "execution_count": 9,
      "outputs": []
    },
    {
      "cell_type": "code",
      "source": [
        "nums = [1, 2, 3,]\n",
        "result = maximumProduct(nums)\n",
        "print(result)"
      ],
      "metadata": {
        "colab": {
          "base_uri": "https://localhost:8080/"
        },
        "id": "I491DLDSb4ya",
        "outputId": "dba5c94d-6721-4740-bf40-c7fdae12b6b5"
      },
      "execution_count": 13,
      "outputs": [
        {
          "output_type": "stream",
          "name": "stdout",
          "text": [
            "6\n"
          ]
        }
      ]
    },
    {
      "cell_type": "markdown",
      "source": [
        "Question 6\n",
        "Given an array of integers nums which is sorted in ascending order, and an integer target,\n",
        "write a function to search target in nums. If target exists, then return its index. Otherwise,\n",
        "return -1.\n",
        "\n",
        "You must write an algorithm with O(log n) runtime complexity.\n",
        "\n",
        "Input: nums = [-1,0,3,5,9,12], target = 9\n",
        "Output: 4\n",
        "\n",
        "Explanation: 9 exists in nums and its index is 4"
      ],
      "metadata": {
        "id": "5dZZSSOKcday"
      }
    },
    {
      "cell_type": "code",
      "source": [
        "def searchelement(nums, target):\n",
        "    left = 0\n",
        "    right = len(nums) - 1\n",
        "\n",
        "    while left <= right:\n",
        "        mid = left + (right - left) // 2  \n",
        "\n",
        "        if nums[mid] == target:\n",
        "            return mid\n",
        "        elif nums[mid] < target:\n",
        "            left = mid + 1  \n",
        "        else:\n",
        "            right = mid - 1  \n",
        "\n",
        "    return -1 "
      ],
      "metadata": {
        "id": "s5N9FbNAb7ML"
      },
      "execution_count": 14,
      "outputs": []
    },
    {
      "cell_type": "code",
      "source": [
        "nums = [-1, 0, 3, 5, 9, 12]\n",
        "target = 9\n",
        "result = searchelement(nums, target)\n",
        "print(result)"
      ],
      "metadata": {
        "colab": {
          "base_uri": "https://localhost:8080/"
        },
        "id": "RvBpv4TEdXXj",
        "outputId": "11f2e414-ec72-4223-f6dc-ad92cfeb5a26"
      },
      "execution_count": 15,
      "outputs": [
        {
          "output_type": "stream",
          "name": "stdout",
          "text": [
            "4\n"
          ]
        }
      ]
    },
    {
      "cell_type": "markdown",
      "source": [
        "Question 7\n",
        "An array is monotonic if it is either monotone increasing or monotone decreasing.\n",
        "\n",
        "An array nums is monotone increasing if for all i <= j, nums[i] <= nums[j]. An array nums is\n",
        "monotone decreasing if for all i <= j, nums[i] >= nums[j].\n",
        "\n",
        "Given an integer array nums, return true if the given array is monotonic, or false otherwise.\n",
        "\n",
        "Example 1:\n",
        "Input: nums = [1,2,2,3]\n",
        "Output: true"
      ],
      "metadata": {
        "id": "xx862xEjdnZb"
      }
    },
    {
      "cell_type": "code",
      "source": [
        "def isMonotonic(nums):\n",
        "    increasing = decreasing = True\n",
        "\n",
        "    for i in range(1, len(nums)):\n",
        "        if nums[i] < nums[i - 1]:\n",
        "            increasing = False\n",
        "        if nums[i] > nums[i - 1]:\n",
        "            decreasing = False\n",
        "\n",
        "    return increasing or decreasing"
      ],
      "metadata": {
        "id": "OI_m99YjdcNE"
      },
      "execution_count": 16,
      "outputs": []
    },
    {
      "cell_type": "code",
      "source": [
        "nums = [1, 2, 2, 3]\n",
        "result = isMonotonic(nums)\n",
        "print(result)"
      ],
      "metadata": {
        "colab": {
          "base_uri": "https://localhost:8080/"
        },
        "id": "oCUJXQsQdwpI",
        "outputId": "c65e88c0-9bd6-4c71-aace-eaba028e4db7"
      },
      "execution_count": 17,
      "outputs": [
        {
          "output_type": "stream",
          "name": "stdout",
          "text": [
            "True\n"
          ]
        }
      ]
    },
    {
      "cell_type": "markdown",
      "source": [
        "Question 8\n",
        "You are given an integer array nums and an integer k.\n",
        "\n",
        "In one operation, you can choose any index i where 0 <= i < nums.length and change nums[i] to nums[i] + x where x is an integer from the range [-k, k]. You can apply this operation at most once for each index i.\n",
        "\n",
        "The score of nums is the difference between the maximum and minimum elements in nums.\n",
        "\n",
        "Return the minimum score of nums after applying the mentioned operation at most once for each index in it.\n",
        "\n",
        "Example 1:\n",
        "Input: nums = [1], k = 0\n",
        "Output: 0\n",
        "\n",
        "Explanation: The score is max(nums) - min(nums) = 1 - 1 = 0."
      ],
      "metadata": {
        "id": "2uvhajhQejkB"
      }
    },
    {
      "cell_type": "code",
      "source": [
        "def minimumScore(nums, k):\n",
        "    min_num = min(nums)\n",
        "    max_num = max(nums)\n",
        "\n",
        "    if min_num + k >= max_num - k:\n",
        "        return 0  \n",
        "    return max_num - k - (min_num + k)"
      ],
      "metadata": {
        "id": "IVwMD-kKdzum"
      },
      "execution_count": 18,
      "outputs": []
    },
    {
      "cell_type": "code",
      "source": [
        "nums = [1]\n",
        "k = 0\n",
        "result = minimumScore(nums, k)\n",
        "print(result)"
      ],
      "metadata": {
        "colab": {
          "base_uri": "https://localhost:8080/"
        },
        "id": "3HMmxKS3eqYI",
        "outputId": "2289e8fb-28bd-4fa5-bd83-336587c1f94e"
      },
      "execution_count": 19,
      "outputs": [
        {
          "output_type": "stream",
          "name": "stdout",
          "text": [
            "0\n"
          ]
        }
      ]
    },
    {
      "cell_type": "code",
      "source": [],
      "metadata": {
        "id": "GD_yEiGGeyrx"
      },
      "execution_count": null,
      "outputs": []
    }
  ]
}