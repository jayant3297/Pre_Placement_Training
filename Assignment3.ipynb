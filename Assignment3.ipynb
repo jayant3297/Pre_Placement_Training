{
  "nbformat": 4,
  "nbformat_minor": 0,
  "metadata": {
    "colab": {
      "provenance": [],
      "authorship_tag": "ABX9TyPV+n3wbD8M+uxktwWtqD83",
      "include_colab_link": true
    },
    "kernelspec": {
      "name": "python3",
      "display_name": "Python 3"
    },
    "language_info": {
      "name": "python"
    }
  },
  "cells": [
    {
      "cell_type": "markdown",
      "metadata": {
        "id": "view-in-github",
        "colab_type": "text"
      },
      "source": [
        "<a href=\"https://colab.research.google.com/github/jayant3297/Pre_Placement_Training/blob/main/Assignment3.ipynb\" target=\"_parent\"><img src=\"https://colab.research.google.com/assets/colab-badge.svg\" alt=\"Open In Colab\"/></a>"
      ]
    },
    {
      "cell_type": "markdown",
      "source": [
        "Question 1\n",
        "Given an integer array nums of length n and an integer target, find three integers\n",
        "in nums such that the sum is closest to the target.\n",
        "Return the sum of the three integers.\n",
        "\n",
        "You may assume that each input would have exactly one solution.\n",
        "\n",
        "Example 1:\n",
        "Input: nums = [-1,2,1,-4], target = 1\n",
        "Output: 2\n",
        "\n",
        "Explanation: The sum that is closest to the target is 2. (-1 + 2 + 1 = 2)."
      ],
      "metadata": {
        "id": "oUpf5wHiE2YT"
      }
    },
    {
      "cell_type": "code",
      "execution_count": 1,
      "metadata": {
        "id": "PS6uqMj0EtP1"
      },
      "outputs": [],
      "source": [
        "def threeSumClosest(nums, target):\n",
        "    nums.sort()  # Sort the array in ascending order\n",
        "    closest_sum = float('inf')  \n",
        "    for i in range(len(nums) - 2):\n",
        "        left = i + 1  # Left pointer\n",
        "        right = len(nums) - 1  # Right pointer\n",
        "\n",
        "        while left < right:\n",
        "            current_sum = nums[i] + nums[left] + nums[right]  # current sum\n",
        "\n",
        "            if current_sum == target:\n",
        "                return current_sum  \n",
        "            elif abs(current_sum - target) < abs(closest_sum - target):\n",
        "                closest_sum = current_sum  \n",
        "\n",
        "            if current_sum < target:\n",
        "                left += 1  \n",
        "            else:\n",
        "                right -= 1 \n",
        "\n",
        "    return closest_sum"
      ]
    },
    {
      "cell_type": "code",
      "source": [
        "nums = [-1, 2, 1, -4]\n",
        "target = 1\n",
        "result = threeSumClosest(nums, target)\n",
        "print(result)"
      ],
      "metadata": {
        "colab": {
          "base_uri": "https://localhost:8080/"
        },
        "id": "7mP9KNfeFmeK",
        "outputId": "bbcd772a-6d56-4b27-c2d5-6c1bbe1931ef"
      },
      "execution_count": 2,
      "outputs": [
        {
          "output_type": "stream",
          "name": "stdout",
          "text": [
            "2\n"
          ]
        }
      ]
    },
    {
      "cell_type": "markdown",
      "source": [
        "Question 2\n",
        "Given an array nums of n integers, return an array of all the unique quadruplets\n",
        "[nums[a], nums[b], nums[c], nums[d]] such that:\n",
        "           ● 0 <= a, b, c, d < n\n",
        "           ● a, b, c, and d are distinct.\n",
        "           ● nums[a] + nums[b] + nums[c] + nums[d] == target\n",
        "\n",
        "You may return the answer in any order.\n",
        "\n",
        "Example 1:\n",
        "Input: nums = [1,0,-1,0,-2,2], target = 0\n",
        "Output: [[-2,-1,1,2],[-2,0,0,2],[-1,0,0,1]]"
      ],
      "metadata": {
        "id": "4rlVDBvdFyB-"
      }
    },
    {
      "cell_type": "code",
      "source": [
        "def fourSum(nums, target):\n",
        "    nums.sort()  # Sort the array in ascending order\n",
        "    result = []\n",
        "\n",
        "    for i in range(len(nums) - 3):\n",
        "        if i > 0 and nums[i] == nums[i - 1]:\n",
        "            continue  \n",
        "        for j in range(i + 1, len(nums) - 2):\n",
        "            if j > i + 1 and nums[j] == nums[j - 1]:\n",
        "                continue  \n",
        "\n",
        "            left = j + 1  \n",
        "            right = len(nums) - 1  \n",
        "\n",
        "            while left < right:\n",
        "                current_sum = nums[i] + nums[j] + nums[left] + nums[right]\n",
        "\n",
        "                if current_sum == target:\n",
        "                    result.append([nums[i], nums[j], nums[left], nums[right]])\n",
        "\n",
        "                   \n",
        "                    while left < right and nums[left] == nums[left + 1]:\n",
        "                        left += 1\n",
        "                    while left < right and nums[right] == nums[right - 1]:\n",
        "                        right -= 1\n",
        "\n",
        "                    left += 1\n",
        "                    right -= 1\n",
        "                elif current_sum < target:\n",
        "                    left += 1\n",
        "                else:\n",
        "                    right -= 1\n",
        "\n",
        "    return result"
      ],
      "metadata": {
        "id": "NqcxfWgIFpuH"
      },
      "execution_count": 3,
      "outputs": []
    },
    {
      "cell_type": "code",
      "source": [
        "nums = [1, 0, -1, 0, -2, 2]\n",
        "target = 0\n",
        "result = fourSum(nums, target)\n",
        "print(result)"
      ],
      "metadata": {
        "colab": {
          "base_uri": "https://localhost:8080/"
        },
        "id": "4vMTKPd9HYYL",
        "outputId": "af14376a-5aca-443e-c5a0-3c4fe2c04470"
      },
      "execution_count": 4,
      "outputs": [
        {
          "output_type": "stream",
          "name": "stdout",
          "text": [
            "[[-2, -1, 1, 2], [-2, 0, 0, 2], [-1, 0, 0, 1]]\n"
          ]
        }
      ]
    },
    {
      "cell_type": "markdown",
      "source": [
        "<aside>\n",
        "💡 **Question 3**\n",
        "A permutation of an array of integers is an arrangement of its members into a\n",
        "sequence or linear order.\n",
        "\n",
        "For example, for arr = [1,2,3], the following are all the permutations of arr:\n",
        "[1,2,3], [1,3,2], [2, 1, 3], [2, 3, 1], [3,1,2], [3,2,1].\n",
        "\n",
        "The next permutation of an array of integers is the next lexicographically greater\n",
        "permutation of its integer. More formally, if all the permutations of the array are\n",
        "sorted in one container according to their lexicographical order, then the next\n",
        "permutation of that array is the permutation that follows it in the sorted container.\n",
        "\n",
        "If such an arrangement is not possible, the array must be rearranged as the\n",
        "lowest possible order (i.e., sorted in ascending order).\n",
        "\n",
        "● For example, the next permutation of arr = [1,2,3] is [1,3,2].\n",
        "● Similarly, the next permutation of arr = [2,3,1] is [3,1,2].\n",
        "● While the next permutation of arr = [3,2,1] is [1,2,3] because [3,2,1] does not\n",
        "have a lexicographical larger rearrangement.\n",
        "\n",
        "Given an array of integers nums, find the next permutation of nums.\n",
        "The replacement must be in place and use only constant extra memory.\n",
        "\n",
        "</aside>\n",
        "\n",
        "Example 1:\n",
        "Input: nums = [1,2,3]\n",
        "Output: [1,3,2]"
      ],
      "metadata": {
        "id": "MItWwFC-HrWO"
      }
    },
    {
      "cell_type": "code",
      "source": [
        "def nextPermutation(nums):\n",
        "    n = len(nums)\n",
        "    i = n - 2\n",
        "\n",
        "    # Find the first pair of adjacent elements in descending order\n",
        "    while i >= 0 and nums[i] >= nums[i + 1]:\n",
        "        i -= 1\n",
        "\n",
        "    if i >= 0:\n",
        "        j = n - 1\n",
        "        # Find the smallest element to the right of nums[i] that is greater than nums[i]\n",
        "        while j > i and nums[j] <= nums[i]:\n",
        "            j -= 1\n",
        "        nums[i], nums[j] = nums[j], nums[i]\n",
        "\n",
        "    # Reverse the elements to the right of nums[i]\n",
        "    left = i + 1\n",
        "    right = n - 1\n",
        "    while left < right:\n",
        "        nums[left], nums[right] = nums[right], nums[left]\n",
        "        left += 1\n",
        "        right -= 1\n",
        "\n",
        "    return nums"
      ],
      "metadata": {
        "id": "UQomaXRPHbUR"
      },
      "execution_count": 5,
      "outputs": []
    },
    {
      "cell_type": "code",
      "source": [
        "nums = [1, 2, 3]\n",
        "next_permutation = nextPermutation(nums)\n",
        "print(next_permutation)"
      ],
      "metadata": {
        "colab": {
          "base_uri": "https://localhost:8080/"
        },
        "id": "UgAvQ7UcIcTd",
        "outputId": "b489a747-5683-4b2b-b785-a67533b89b1d"
      },
      "execution_count": 6,
      "outputs": [
        {
          "output_type": "stream",
          "name": "stdout",
          "text": [
            "[1, 3, 2]\n"
          ]
        }
      ]
    },
    {
      "cell_type": "markdown",
      "source": [
        "Question 4\n",
        "Given a sorted array of distinct integers and a target value, return the index if the\n",
        "target is found. If not, return the index where it would be if it were inserted in\n",
        "order.\n",
        "\n",
        "You must write an algorithm with O(log n) runtime complexity.\n",
        "\n",
        "Example 1:\n",
        "Input: nums = [1,3,5,6], target = 5\n",
        "Output: 2"
      ],
      "metadata": {
        "id": "XaLv_RIGIqE_"
      }
    },
    {
      "cell_type": "code",
      "source": [
        "def searchInsert(nums, target):\n",
        "    left = 0\n",
        "    right = len(nums) - 1\n",
        "\n",
        "    while left <= right:\n",
        "        mid = left + (right - left) // 2\n",
        "\n",
        "        if nums[mid] == target:\n",
        "            return mid\n",
        "        elif nums[mid] < target:\n",
        "            left = mid + 1\n",
        "        else:\n",
        "            right = mid - 1\n",
        "\n",
        "    return left"
      ],
      "metadata": {
        "id": "n-9K3YwpIks9"
      },
      "execution_count": 7,
      "outputs": []
    },
    {
      "cell_type": "code",
      "source": [
        "nums = [1, 3, 5, 6]\n",
        "target = 5\n",
        "index = searchInsert(nums, target)\n",
        "print(index)"
      ],
      "metadata": {
        "colab": {
          "base_uri": "https://localhost:8080/"
        },
        "id": "l2L4C5HfI2_E",
        "outputId": "d51fe0a4-afcc-454c-9f83-e8f17395e87e"
      },
      "execution_count": 8,
      "outputs": [
        {
          "output_type": "stream",
          "name": "stdout",
          "text": [
            "2\n"
          ]
        }
      ]
    },
    {
      "cell_type": "markdown",
      "source": [
        "<aside>\n",
        "💡 **Question 5**\n",
        "You are given a large integer represented as an integer array digits, where each\n",
        "digits[i] is the ith digit of the integer. The digits are ordered from most significant\n",
        "to least significant in left-to-right order. The large integer does not contain any\n",
        "leading 0's.\n",
        "\n",
        "Increment the large integer by one and return the resulting array of digits.\n",
        "\n",
        "**Example 1:**\n",
        "Input: digits = [1,2,3]\n",
        "Output: [1,2,4]\n",
        "\n",
        "**Explanation:** The array represents the integer 123.\n",
        "Incrementing by one gives 123 + 1 = 124.\n",
        "Thus, the result should be [1,2,4].\n",
        "\n",
        "</aside>"
      ],
      "metadata": {
        "id": "WBuiTTnMJFJU"
      }
    },
    {
      "cell_type": "code",
      "source": [
        "def incrementDigits(digits):\n",
        "    n = len(digits)\n",
        "    carry = 1\n",
        "\n",
        "    for i in range(n - 1, -1, -1):\n",
        "        digits[i] += carry\n",
        "        if digits[i] < 10:\n",
        "            carry = 0\n",
        "            break\n",
        "        else:\n",
        "            digits[i] = 0\n",
        "\n",
        "    if carry == 1:\n",
        "        digits.insert(0, carry)\n",
        "\n",
        "    return digits"
      ],
      "metadata": {
        "id": "nDZT2yKoI7ke"
      },
      "execution_count": 9,
      "outputs": []
    },
    {
      "cell_type": "code",
      "source": [
        "digits = [1, 2, 3]\n",
        "result = incrementDigits(digits)\n",
        "print(result)"
      ],
      "metadata": {
        "colab": {
          "base_uri": "https://localhost:8080/"
        },
        "id": "NQPjlkApJVPC",
        "outputId": "39448c29-4e28-4de5-e868-0a5e5d51d4f8"
      },
      "execution_count": 10,
      "outputs": [
        {
          "output_type": "stream",
          "name": "stdout",
          "text": [
            "[1, 2, 4]\n"
          ]
        }
      ]
    },
    {
      "cell_type": "markdown",
      "source": [
        "Question 6\n",
        "Given a non-empty array of integers nums, every element appears twice except\n",
        "for one. Find that single one.\n",
        "\n",
        "You must implement a solution with a linear runtime complexity and use only\n",
        "constant extra space.\n",
        "\n",
        "Example 1:\n",
        "Input: nums = [2,2,1]\n",
        "Output: 1\n"
      ],
      "metadata": {
        "id": "plBinxapJ5rw"
      }
    },
    {
      "cell_type": "code",
      "source": [
        "def singleNumber(nums):\n",
        "    result = 0\n",
        "    for num in nums:\n",
        "        result ^= num\n",
        "    return result"
      ],
      "metadata": {
        "id": "G7xKVpi7Jjyb"
      },
      "execution_count": 11,
      "outputs": []
    },
    {
      "cell_type": "code",
      "source": [
        "nums = [2, 2, 1]\n",
        "result = singleNumber(nums)\n",
        "print(result) "
      ],
      "metadata": {
        "colab": {
          "base_uri": "https://localhost:8080/"
        },
        "id": "26jh8TSiKJ58",
        "outputId": "06c29e51-f805-4f1b-f877-1ec0008f767e"
      },
      "execution_count": 12,
      "outputs": [
        {
          "output_type": "stream",
          "name": "stdout",
          "text": [
            "1\n"
          ]
        }
      ]
    },
    {
      "cell_type": "markdown",
      "source": [
        "Question 7\n",
        "You are given an inclusive range [lower, upper] and a sorted unique integer array\n",
        "nums, where all elements are within the inclusive range.\n",
        "\n",
        "A number x is considered missing if x is in the range [lower, upper] and x is not in\n",
        "nums.\n",
        "\n",
        "Return the shortest sorted list of ranges that exactly covers all the missing\n",
        "numbers. That is, no element of nums is included in any of the ranges, and each\n",
        "missing number is covered by one of the ranges.\n",
        "\n",
        "Example 1:\n",
        "Input: nums = [0,1,3,50,75], lower = 0, upper = 99\n",
        "Output: [[2,2],[4,49],[51,74],[76,99]]\n",
        "\n",
        "Explanation: The ranges are:\n",
        "[2,2]\n",
        "[4,49]\n",
        "[51,74]\n",
        "[76,99]"
      ],
      "metadata": {
        "id": "GxkeNVDJKVT9"
      }
    },
    {
      "cell_type": "code",
      "source": [
        "def findMissingRanges(nums, lower, upper):\n",
        "    result = []\n",
        "    start = lower\n",
        "\n",
        "    for num in nums:\n",
        "        if num == start + 1:\n",
        "            start = num\n",
        "        elif num > start + 1:\n",
        "            result.append([start + 1, num - 1])\n",
        "            start = num\n",
        "\n",
        "    if start < upper:\n",
        "        result.append([start + 1, upper])\n",
        "\n",
        "    return result"
      ],
      "metadata": {
        "id": "0jigzVmfKMGu"
      },
      "execution_count": 13,
      "outputs": []
    },
    {
      "cell_type": "code",
      "source": [
        "nums = [0, 1, 3, 50, 75]\n",
        "lower = 0\n",
        "upper = 99\n",
        "result = findMissingRanges(nums, lower, upper)\n",
        "print(result)"
      ],
      "metadata": {
        "colab": {
          "base_uri": "https://localhost:8080/"
        },
        "id": "aiT8GOFOOcG9",
        "outputId": "d0e5a465-57bd-4aef-dbc7-f6051d2adb07"
      },
      "execution_count": 14,
      "outputs": [
        {
          "output_type": "stream",
          "name": "stdout",
          "text": [
            "[[2, 2], [4, 49], [51, 74], [76, 99]]\n"
          ]
        }
      ]
    },
    {
      "cell_type": "markdown",
      "source": [
        "Question 8\n",
        "Given an array of meeting time intervals where intervals[i] = [starti, endi],\n",
        "determine if a person could attend all meetings.\n",
        "\n",
        "Example 1:\n",
        "Input: intervals = [[0,30],[5,10],[15,20]]\n",
        "Output: false"
      ],
      "metadata": {
        "id": "Tkl9NQ2AO1p_"
      }
    },
    {
      "cell_type": "code",
      "source": [
        "def canAttendMeetings(intervals):\n",
        "    intervals.sort(key=lambda x: x[0])  # Sort\n",
        "    for i in range(1, len(intervals)):\n",
        "        if intervals[i][0] < intervals[i-1][1]:\n",
        "            return False\n",
        "\n",
        "    return True"
      ],
      "metadata": {
        "id": "u-cuG9JIOeSy"
      },
      "execution_count": 16,
      "outputs": []
    },
    {
      "cell_type": "code",
      "source": [
        "intervals = [[0, 30], [5, 10], [15, 20]]\n",
        "result = canAttendMeetings(intervals)\n",
        "print(result)"
      ],
      "metadata": {
        "colab": {
          "base_uri": "https://localhost:8080/"
        },
        "id": "8LRWHSi3PAvN",
        "outputId": "0c58470f-a228-4903-a86c-d433739ede88"
      },
      "execution_count": 17,
      "outputs": [
        {
          "output_type": "stream",
          "name": "stdout",
          "text": [
            "False\n"
          ]
        }
      ]
    },
    {
      "cell_type": "code",
      "source": [],
      "metadata": {
        "id": "JQddDu9LPLN1"
      },
      "execution_count": null,
      "outputs": []
    }
  ]
}