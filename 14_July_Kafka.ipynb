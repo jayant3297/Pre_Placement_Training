{
  "nbformat": 4,
  "nbformat_minor": 0,
  "metadata": {
    "colab": {
      "provenance": [],
      "authorship_tag": "ABX9TyPecZy3Em6cfWJtE7IEM7j6",
      "include_colab_link": true
    },
    "kernelspec": {
      "name": "python3",
      "display_name": "Python 3"
    },
    "language_info": {
      "name": "python"
    }
  },
  "cells": [
    {
      "cell_type": "markdown",
      "metadata": {
        "id": "view-in-github",
        "colab_type": "text"
      },
      "source": [
        "<a href=\"https://colab.research.google.com/github/jayant3297/Pre_Placement_Training/blob/main/14_July_Kafka.ipynb\" target=\"_parent\"><img src=\"https://colab.research.google.com/assets/colab-badge.svg\" alt=\"Open In Colab\"/></a>"
      ]
    },
    {
      "cell_type": "code",
      "source": [
        "pip install kafka-python\n"
      ],
      "metadata": {
        "colab": {
          "base_uri": "https://localhost:8080/"
        },
        "id": "LcyDrsZUHQ5M",
        "outputId": "6f1fafd5-ff44-4707-852d-58fb257dff77"
      },
      "execution_count": 2,
      "outputs": [
        {
          "output_type": "stream",
          "name": "stdout",
          "text": [
            "Collecting kafka-python\n",
            "  Downloading kafka_python-2.0.2-py2.py3-none-any.whl (246 kB)\n",
            "\u001b[?25l     \u001b[90m━━━━━━━━━━━━━━━━━━━━━━━━━━━━━━━━━━━━━━━━\u001b[0m \u001b[32m0.0/246.5 kB\u001b[0m \u001b[31m?\u001b[0m eta \u001b[36m-:--:--\u001b[0m\r\u001b[2K     \u001b[90m━━━━━━━━━━━━━━━━━━━━━━━━━━━━━━━━━━━━━━\u001b[0m \u001b[32m246.5/246.5 kB\u001b[0m \u001b[31m16.8 MB/s\u001b[0m eta \u001b[36m0:00:00\u001b[0m\n",
            "\u001b[?25hInstalling collected packages: kafka-python\n",
            "Successfully installed kafka-python-2.0.2\n"
          ]
        }
      ]
    },
    {
      "cell_type": "markdown",
      "source": [
        "1. Setting up a Kafka Producer:\n",
        "\n",
        "   a) Write a Python program to create a Kafka producer.\n",
        "\n",
        "   b) Configure the producer to connect to a Kafka cluster.\n",
        "   \n",
        "   c) Implement logic to send messages to a Kafka topic.\n"
      ],
      "metadata": {
        "id": "yxw3CPB_HJvI"
      }
    },
    {
      "cell_type": "code",
      "execution_count": null,
      "metadata": {
        "id": "afx60u0VCtHj"
      },
      "outputs": [],
      "source": [
        "from kafka import KafkaProducer\n",
        "\n",
        "# Create a Kafka producer instance\n",
        "producer = KafkaProducer(bootstrap_servers='localhost:9092')\n",
        "\n",
        "# Define the Kafka topic to send messages to\n",
        "topic = 'my_topic'\n",
        "\n",
        "# Define the messages to send\n",
        "messages = [\n",
        "    'Message 1',\n",
        "    'Message 2',\n",
        "    'Message 3'\n",
        "]\n",
        "\n",
        "# Send messages to the Kafka topic\n",
        "for message in messages:\n",
        "    producer.send(topic, value=message.encode('utf-8'))\n",
        "\n",
        "# Flush and close the producer\n",
        "producer.flush()\n",
        "producer.close()\n"
      ]
    },
    {
      "cell_type": "markdown",
      "source": [
        "b) Configuring the producer to connect to a Kafka cluster:\n",
        "\n",
        "In the above code, the bootstrap_servers parameter of the KafkaProducer constructor is set to 'localhost:9092'. Replace this with the appropriate hostname and port of your Kafka cluster."
      ],
      "metadata": {
        "id": "8Shcst5eHeRE"
      }
    },
    {
      "cell_type": "markdown",
      "source": [
        "c) Implementing logic to send messages to a Kafka topic:\n",
        "\n",
        "messages are sent to the Kafka topic using the producer.send() method. The messages are specified in the messages list. You can modify the list to include the desired messages to be sent. The topic variable specifies the Kafka topic to send the messages to."
      ],
      "metadata": {
        "id": "QX7IM02xHj4k"
      }
    },
    {
      "cell_type": "markdown",
      "source": [
        "\n",
        "2. Setting up a Kafka Consumer:\n",
        "\n",
        "   a) Write a Python program to create a Kafka consumer.\n",
        "\n",
        "   b) Configure the consumer to connect to a Kafka cluster.\n",
        "   \n",
        "   c) Implement logic to consume messages from a Kafka topic.\n",
        "\n"
      ],
      "metadata": {
        "id": "E4ydYXitHr7c"
      }
    },
    {
      "cell_type": "code",
      "source": [
        "from kafka import KafkaConsumer\n",
        "\n",
        "# Create a Kafka consumer instance\n",
        "consumer = KafkaConsumer('my_topic', bootstrap_servers='localhost:9092')\n",
        "\n",
        "# Consume messages from the Kafka topic\n",
        "for message in consumer:\n",
        "    print(message.value.decode('utf-8'))\n",
        "\n",
        "# Close the consumer\n",
        "consumer.close()\n"
      ],
      "metadata": {
        "id": "vWRMhryaHjVX"
      },
      "execution_count": null,
      "outputs": []
    },
    {
      "cell_type": "markdown",
      "source": [
        "b) Configuring the consumer to connect to a Kafka cluster:\n",
        "\n",
        "In the above code, the bootstrap_servers parameter of the KafkaConsumer constructor is set to 'localhost:9092'. Replace this with the appropriate hostname and port of your Kafka cluster."
      ],
      "metadata": {
        "id": "ZCFRruO_Hz_B"
      }
    },
    {
      "cell_type": "markdown",
      "source": [
        "c) Implementing logic to consume messages from a Kafka topic:\n",
        "\n",
        "In the example above, the Kafka consumer consumes messages from the topic specified in the KafkaConsumer constructor. The consumed messages are then printed out. You can modify the logic inside the loop to handle the consumed messages according to your requirements."
      ],
      "metadata": {
        "id": "4JU7VwbLH3U-"
      }
    },
    {
      "cell_type": "markdown",
      "source": [
        "3. Creating and Managing Kafka Topics:\n",
        "\n",
        "   a) Write a Python program to create a new Kafka topic.\n",
        "\n",
        "   b) Implement functionality to list existing topics.\n",
        "   \n",
        "   c) Develop logic to delete an existing Kafka topic.\n"
      ],
      "metadata": {
        "id": "6YIbCLNnH9iX"
      }
    },
    {
      "cell_type": "code",
      "source": [
        "#create  kafka topic\n",
        "\n",
        "from kafka.admin import KafkaAdminClient, NewTopic\n",
        "\n",
        "# Create a Kafka admin client instance\n",
        "admin_client = KafkaAdminClient(bootstrap_servers='localhost:9092')\n",
        "\n",
        "# Create a new Kafka topic\n",
        "topic_name = 'my_topic'\n",
        "partitions = 1\n",
        "replication_factor = 1\n",
        "new_topic = NewTopic(topic_name, num_partitions=partitions, replication_factor=replication_factor)\n",
        "admin_client.create_topics([new_topic])\n"
      ],
      "metadata": {
        "id": "DwzGy4EbH2yb"
      },
      "execution_count": null,
      "outputs": []
    },
    {
      "cell_type": "code",
      "source": [
        "#b) Listing existing topics:\n",
        "\n",
        "from kafka.admin import KafkaAdminClient\n",
        "\n",
        "# Create a Kafka admin client instance\n",
        "admin_client = KafkaAdminClient(bootstrap_servers='localhost:9092')\n",
        "\n",
        "# List the existing Kafka topics\n",
        "topics = admin_client.list_topics()\n",
        "for topic in topics:\n",
        "    print(topic)\n"
      ],
      "metadata": {
        "id": "PLfKcacbILTU"
      },
      "execution_count": null,
      "outputs": []
    },
    {
      "cell_type": "code",
      "source": [
        "#c) Deleting an existing Kafka topic:\n",
        "from kafka.admin import KafkaAdminClient\n",
        "\n",
        "# Create a Kafka admin client instance\n",
        "admin_client = KafkaAdminClient(bootstrap_servers='localhost:9092')\n",
        "\n",
        "# Delete an existing Kafka topic\n",
        "topic_name = 'my_topic'\n",
        "admin_client.delete_topics([topic_name])\n"
      ],
      "metadata": {
        "id": "V4L-bEB9IQ-3"
      },
      "execution_count": null,
      "outputs": []
    },
    {
      "cell_type": "markdown",
      "source": [
        "\n",
        "4. Producing and Consuming Messages:\n",
        "\n",
        "   a) Write a Python program to produce messages to a Kafka topic.\n",
        "\n",
        "   b) Implement logic to consume messages from the same Kafka topic.\n",
        "\n",
        "   c) Test the end-to-end flow of message production and consumption.\n"
      ],
      "metadata": {
        "id": "cbXK1gr1IZAf"
      }
    },
    {
      "cell_type": "code",
      "source": [
        "from kafka import KafkaProducer\n",
        "\n",
        "# Create a Kafka producer instance\n",
        "producer = KafkaProducer(bootstrap_servers='localhost:9092')\n",
        "\n",
        "# Define the Kafka topic to send messages to\n",
        "topic_name = 'my_topic'\n",
        "\n",
        "# Define the messages to send\n",
        "messages = [\n",
        "    'Message 1',\n",
        "    'Message 2',\n",
        "    'Message 3'\n",
        "]\n",
        "\n",
        "# Send messages to the Kafka topic\n",
        "for message in messages:\n",
        "    producer.send(topic_name, value=message.encode('utf-8'))\n",
        "\n",
        "# Flush and close the producer\n",
        "producer.flush()\n",
        "producer.close()\n"
      ],
      "metadata": {
        "id": "ne7n9npSIYlR"
      },
      "execution_count": null,
      "outputs": []
    },
    {
      "cell_type": "code",
      "source": [
        "from kafka import KafkaConsumer\n",
        "\n",
        "# Create a Kafka consumer instance\n",
        "consumer = KafkaConsumer('my_topic', bootstrap_servers='localhost:9092')\n",
        "\n",
        "# Consume messages from the Kafka topic\n",
        "for message in consumer:\n",
        "    print(message.value.decode('utf-8'))\n",
        "\n",
        "# Close the consumer\n",
        "consumer.close()\n"
      ],
      "metadata": {
        "id": "-NINByx-IhLO"
      },
      "execution_count": null,
      "outputs": []
    },
    {
      "cell_type": "markdown",
      "source": [
        "c) Testing the end-to-end flow of message production and consumption:\n",
        "\n",
        "Run the Python program to produce messages to the Kafka topic.\n",
        "Open a new terminal and run the Python program to consume messages from the same Kafka topic.\n",
        "Observe the consumed messages being printed in the terminal where the consumer program is running."
      ],
      "metadata": {
        "id": "QdtXWq23Ileh"
      }
    },
    {
      "cell_type": "markdown",
      "source": [
        "5. Working with Kafka Consumer Groups:\n",
        "\n",
        "   a) Write a Python program to create a Kafka consumer within a consumer group.\n",
        "\n",
        "   b) Implement logic to handle messages consumed by different consumers within the same group.\n",
        "   \n",
        "   c) Observe the behavior of consumer group rebalancing when adding or removing consumers\n"
      ],
      "metadata": {
        "id": "1NpXKUfHIqMk"
      }
    },
    {
      "cell_type": "code",
      "source": [
        "#a) Creating a Kafka consumer within a consumer group:\n",
        "\n",
        "from kafka import KafkaConsumer\n",
        "\n",
        "# Create a Kafka consumer instance within a consumer group\n",
        "consumer = KafkaConsumer('my_topic', group_id='my_consumer_group', bootstrap_servers='localhost:9092')\n",
        "\n",
        "# Consume messages from the Kafka topic\n",
        "for message in consumer:\n",
        "    print(message.value.decode('utf-8'))\n",
        "\n",
        "# Close the consumer\n",
        "consumer.close()\n"
      ],
      "metadata": {
        "id": "V1C_isUcInA1"
      },
      "execution_count": null,
      "outputs": []
    },
    {
      "cell_type": "markdown",
      "source": [
        "b) Implementing logic to handle messages consumed by different consumers within the same group:\n",
        "\n",
        "In the code above, multiple consumers can be started with the same group_id and they will share the workload of consuming messages from the Kafka topic. Each consumer within the group will be assigned a subset of the partitions of the topic to consume from. The logic inside the loop can be customized to process the messages as needed by your application."
      ],
      "metadata": {
        "id": "asts9HwUI5JI"
      }
    },
    {
      "cell_type": "markdown",
      "source": [
        "c) Observing the behavior of consumer group rebalancing when adding or removing consumers:\n",
        "\n",
        "To observe the behavior of consumer group rebalancing, you can follow these steps:\n",
        "\n",
        "Start a consumer program with the given group_id and observe the messages being consumed from the Kafka topic.\n",
        "While the consumer program is running, start additional instances of the consumer program with the same group_id. Observe that the workload of consuming messages is automatically balanced among the consumers. Each consumer will be assigned a subset of the partitions.\n",
        "Stop one or more of the consumer instances. Observe that the workload is rebalanced among the remaining consumers."
      ],
      "metadata": {
        "id": "2A9J-qjgI8Ze"
      }
    },
    {
      "cell_type": "code",
      "source": [],
      "metadata": {
        "id": "xfLm8-IgI5ts"
      },
      "execution_count": null,
      "outputs": []
    }
  ]
}