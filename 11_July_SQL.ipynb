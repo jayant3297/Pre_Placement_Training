{
  "nbformat": 4,
  "nbformat_minor": 0,
  "metadata": {
    "colab": {
      "provenance": [],
      "authorship_tag": "ABX9TyM006ODyB/npz3gFBWq0gmO",
      "include_colab_link": true
    },
    "kernelspec": {
      "name": "python3",
      "display_name": "Python 3"
    },
    "language_info": {
      "name": "python"
    }
  },
  "cells": [
    {
      "cell_type": "markdown",
      "metadata": {
        "id": "view-in-github",
        "colab_type": "text"
      },
      "source": [
        "<a href=\"https://colab.research.google.com/github/jayant3297/Pre_Placement_Training/blob/main/11_July_SQL.ipynb\" target=\"_parent\"><img src=\"https://colab.research.google.com/assets/colab-badge.svg\" alt=\"Open In Colab\"/></a>"
      ]
    },
    {
      "cell_type": "markdown",
      "source": [
        "1. Write an SQL query to retrieve the names and email addresses of all employees from a table named \"Employees\"."
      ],
      "metadata": {
        "id": "TkwM4cWavW4q"
      }
    },
    {
      "cell_type": "code",
      "execution_count": null,
      "metadata": {
        "id": "oq06uHnZvMXi"
      },
      "outputs": [],
      "source": [
        "SELECT name, email\n",
        "FROM Employees;\n"
      ]
    },
    {
      "cell_type": "markdown",
      "source": [
        "2. Write an SQL query to filter records from a table named \"Customers\" where the \"City\" column is 'New York'"
      ],
      "metadata": {
        "id": "QE8YSHtCvqAl"
      }
    },
    {
      "cell_type": "code",
      "source": [
        "SELECT *\n",
        "FROM Customers\n",
        "WHERE City = 'New York';\n"
      ],
      "metadata": {
        "id": "PEtSddyUv2Ss"
      },
      "execution_count": null,
      "outputs": []
    },
    {
      "cell_type": "markdown",
      "source": [
        "3. Write an SQL query to sort records in descending order based on the \"DateOfBirth\" column in a table named \"Users\""
      ],
      "metadata": {
        "id": "OrLxkKzJv4j-"
      }
    },
    {
      "cell_type": "code",
      "source": [
        "SELECT *\n",
        "FROM Users\n",
        "ORDER BY DateOfBirth DESC;\n"
      ],
      "metadata": {
        "id": "4R0yNssbv5FX"
      },
      "execution_count": null,
      "outputs": []
    },
    {
      "cell_type": "markdown",
      "source": [
        "4. Write an SQL query to sort records in ascending order based on the \"RegistrationDate\" column in a table named \"Users\".\n"
      ],
      "metadata": {
        "id": "rcm42P1uv7Vh"
      }
    },
    {
      "cell_type": "code",
      "source": [
        "SELECT *\n",
        "FROM Users\n",
        "ORDER BY RegistrationDate ASC;\n"
      ],
      "metadata": {
        "id": "0Jpmhp0Sv7tz"
      },
      "execution_count": null,
      "outputs": []
    },
    {
      "cell_type": "markdown",
      "source": [
        "5. Write an SQL query to find the employee with the highest salary from a table named \"Employees\" and display their name, position, and salary."
      ],
      "metadata": {
        "id": "5u9AGCZLv-aS"
      }
    },
    {
      "cell_type": "code",
      "source": [
        "SELECT name, position, salary\n",
        "FROM Employees\n",
        "ORDER BY salary DESC\n",
        "LIMIT 1;\n"
      ],
      "metadata": {
        "id": "je_iPno0v-yO"
      },
      "execution_count": null,
      "outputs": []
    },
    {
      "cell_type": "markdown",
      "source": [
        "6. Write an SQL query to retrieve records from a table named \"Customers\" where the \"Phone\" column matches the pattern '+1-XXX-XXX-XXXX'.\n"
      ],
      "metadata": {
        "id": "rK_Sglx1wBi6"
      }
    },
    {
      "cell_type": "code",
      "source": [
        "SELECT *\n",
        "FROM Customers\n",
        "WHERE Phone LIKE '+1-___-___-____';\n"
      ],
      "metadata": {
        "id": "8VQJB3DGwB7g"
      },
      "execution_count": null,
      "outputs": []
    },
    {
      "cell_type": "markdown",
      "source": [
        "7. Write an SQL query to retrieve the top 5 customers with the highest total purchase amount from a table named \"Orders\" and display their names and total purchase amounts."
      ],
      "metadata": {
        "id": "82Rqpja7wEM1"
      }
    },
    {
      "cell_type": "code",
      "source": [
        "SELECT CustomerName, SUM(TotalAmount) AS TotalPurchaseAmount\n",
        "FROM Orders\n",
        "GROUP BY CustomerName\n",
        "ORDER BY TotalPurchaseAmount DESC\n",
        "LIMIT 5;\n"
      ],
      "metadata": {
        "id": "5qmiyiETwEmU"
      },
      "execution_count": null,
      "outputs": []
    },
    {
      "cell_type": "markdown",
      "source": [
        "8. Write an SQL query to calculate the percentage of sales for each product category in a table named \"Sales\" and display the category name, total sales amount, and the percentage of total sales."
      ],
      "metadata": {
        "id": "_uZo7n79wH9u"
      }
    },
    {
      "cell_type": "code",
      "source": [
        "SELECT CategoryName, SUM(SalesAmount) AS TotalSalesAmount,\n",
        "       (SUM(SalesAmount) / (SELECT SUM(SalesAmount) FROM Sales)) * 100 AS PercentageOfTotalSales\n",
        "FROM Sales\n",
        "GROUP BY CategoryName;\n"
      ],
      "metadata": {
        "id": "au_WmPMawIWa"
      },
      "execution_count": null,
      "outputs": []
    },
    {
      "cell_type": "markdown",
      "source": [
        "9. Write an SQL query to find the customers who have made the highest total purchases across all years from a table named \"Orders\" and display their names, email addresses, and the total purchase amount.\n"
      ],
      "metadata": {
        "id": "8UhZ68ptwLEG"
      }
    },
    {
      "cell_type": "code",
      "source": [
        "SELECT a.Name, a.Email, a.TotalPurchaseAmount\n",
        "FROM\n",
        "(\n",
        "  SELECT Name, Email, SUM(TotalAmount) AS TotalPurchaseAmount, DENSE_RANK() OVER(ORDER BY  SUM(TotalAmount) DESC) AS RNK\n",
        "  FROM Orders\n",
        "  GROUP BY Name, Email\n",
        ") a\n",
        "WHERE a.RNK = 1;\n",
        "\n"
      ],
      "metadata": {
        "id": "jNVM7WZtwLdG"
      },
      "execution_count": null,
      "outputs": []
    }
  ]
}